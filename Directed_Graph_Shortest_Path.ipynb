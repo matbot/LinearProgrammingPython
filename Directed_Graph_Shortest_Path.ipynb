{
  "nbformat": 4,
  "nbformat_minor": 0,
  "metadata": {
    "colab": {
      "name": "Directed Graph Shortest Path.ipynb",
      "version": "0.3.2",
      "provenance": [],
      "include_colab_link": true
    },
    "kernelspec": {
      "name": "python3",
      "display_name": "Python 3"
    }
  },
  "cells": [
    {
      "cell_type": "markdown",
      "metadata": {
        "id": "view-in-github",
        "colab_type": "text"
      },
      "source": [
        "<a href=\"https://colab.research.google.com/github/matbot/LinearProgrammingPython/blob/master/Directed_Graph_Shortest_Path.ipynb\" target=\"_parent\"><img src=\"https://colab.research.google.com/assets/colab-badge.svg\" alt=\"Open In Colab\"/></a>"
      ]
    },
    {
      "cell_type": "code",
      "metadata": {
        "id": "irKOXstL7tic",
        "colab_type": "code",
        "cellView": "both",
        "colab": {}
      },
      "source": [
        "#@hw6p1\n",
        "!pip install pulp\n",
        "from pulp import *\n",
        "\n",
        "from prettytable import PrettyTable\n",
        "!pip install ptable"
      ],
      "execution_count": 0,
      "outputs": []
    },
    {
      "cell_type": "code",
      "metadata": {
        "id": "C6xmZ4HAe5WC",
        "colab_type": "code",
        "outputId": "c97c7fb2-c99d-458e-8619-85b50aab2031",
        "colab": {
          "base_uri": "https://localhost:8080/",
          "height": 269
        }
      },
      "source": [
        "# Construct decision variables.\n",
        "destination_vertices = ['A', 'B', 'C', 'D', 'E', 'F', 'G', 'H']\n",
        "vertices = LpVariable.dicts(\"\",\n",
        "                           (i for i in destination_vertices),\n",
        "                           lowBound=0,\n",
        "                           cat='Integer')\n",
        "\n",
        "# Instantiate LP Problem\n",
        "model = LpProblem(\"Directed Graph Shortest Paths\", LpMaximize)\n",
        "\n",
        "# Objective Function\n",
        "model += (vertices['A'] + vertices['B'] + vertices['C'] + vertices['D'] + \n",
        "          vertices['E'] + vertices['F'] + vertices['G'] + vertices['H'], \n",
        "          \"Shortest Path to Destination t\")\n",
        "\n",
        "# Constraints: edges of directed graph\n",
        "model += vertices['G'] == 0, \"dG\"\n",
        "model += vertices['A'] - vertices['F'] <= 5, \"wFA\"\n",
        "model += vertices['A'] - vertices['H'] <= 4, \"wHA\"\n",
        "model += vertices['B'] - vertices['A'] <= 8, \"wAB\"\n",
        "model += vertices['B'] - vertices['F'] <= 7, \"wFB\"\n",
        "model += vertices['B'] - vertices['H'] <= 9, \"wHB\"\n",
        "model += vertices['C'] - vertices['B'] <= 4, \"wBC\"\n",
        "model += vertices['C'] - vertices['F'] <= 3, \"wFC\"\n",
        "model += vertices['D'] - vertices['C'] <= 3, \"wCD\"\n",
        "model += vertices['D'] - vertices['E'] <= 9, \"wED\"\n",
        "model += vertices['D'] - vertices['G'] <= 2, \"wGD\"\n",
        "model += vertices['E'] - vertices['B'] <= 10, \"wBE\"\n",
        "model += vertices['E'] - vertices['D'] <= 25, \"wDE\"\n",
        "model += vertices['E'] - vertices['F'] <= 2, \"wFE\"\n",
        "model += vertices['F'] - vertices['A'] <= 10, \"wAF\"\n",
        "model += vertices['F'] - vertices['D'] <= 18, \"wDF\"\n",
        "model += vertices['G'] - vertices['E'] <= 7, \"wEG\"\n",
        "model += vertices['H'] - vertices['G'] <= 3, \"wGH\"\n",
        "  \n",
        "# Solve it\n",
        "model.solve()\n",
        "  \n",
        "# Output the goods.\n",
        "print(\"Shortest Paths Status: {}\".format(LpStatus[model.status]))\n",
        "x = PrettyTable()\n",
        "x.title = \"Shortest Path\"\n",
        "x.field_names = [\"to\", \"from G\"]\n",
        "for vertex in vertices:\n",
        "  x.add_row([vertex, int(vertices[vertex].varValue)])\n",
        "print(x)"
      ],
      "execution_count": 0,
      "outputs": [
        {
          "output_type": "stream",
          "text": [
            "Shortest Paths Status: Optimal\n",
            "+----------------+\n",
            "| Shortest Path  |\n",
            "+-----+----------+\n",
            "|  to |  from G  |\n",
            "+-----+----------+\n",
            "|  A  |    7     |\n",
            "|  B  |    12    |\n",
            "|  C  |    16    |\n",
            "|  D  |    2     |\n",
            "|  E  |    19    |\n",
            "|  F  |    17    |\n",
            "|  G  |    0     |\n",
            "|  H  |    3     |\n",
            "+-----+----------+\n"
          ],
          "name": "stdout"
        }
      ]
    }
  ]
}