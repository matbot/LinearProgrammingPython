{
  "nbformat": 4,
  "nbformat_minor": 0,
  "metadata": {
    "colab": {
      "name": "CoinChangeProblem-IntegerLinear.ipynb",
      "version": "0.3.2",
      "provenance": [],
      "include_colab_link": true
    },
    "kernelspec": {
      "name": "python3",
      "display_name": "Python 3"
    }
  },
  "cells": [
    {
      "cell_type": "markdown",
      "metadata": {
        "id": "view-in-github",
        "colab_type": "text"
      },
      "source": [
        "<a href=\"https://colab.research.google.com/github/matbot/LinearProgrammingPython/blob/master/CoinChangeProblem_IntegerLinear.ipynb\" target=\"_parent\"><img src=\"https://colab.research.google.com/assets/colab-badge.svg\" alt=\"Open In Colab\"/></a>"
      ]
    },
    {
      "cell_type": "code",
      "metadata": {
        "id": "mwAInpVXG5Fu",
        "colab_type": "code",
        "colab": {}
      },
      "source": [
        "#@hw6p1\n",
        "!pip install pulp\n",
        "from pulp import *\n",
        "\n",
        "from prettytable import PrettyTable"
      ],
      "execution_count": 0,
      "outputs": []
    },
    {
      "cell_type": "code",
      "metadata": {
        "id": "0TaFwBxiI4N8",
        "colab_type": "code",
        "outputId": "0f084892-ef28-41dc-c9f7-2a0777ad2772",
        "colab": {
          "base_uri": "https://localhost:8080/",
          "height": 235
        }
      },
      "source": [
        "# Instantiate the problem\n",
        "cc = LpProblem(\"Mimize Coin Change\", LpMinimize)\n",
        "\n",
        "# Construct decision variables\n",
        "c = [1,5,10,25]\n",
        "target = 202\n",
        "coins = LpVariable.dicts(\"Coin\",\n",
        "                        ((i, int(i))  for i in c),\n",
        "                        lowBound=0,\n",
        "                        cat='Integer')\n",
        "\n",
        "# Objective function\n",
        "cc += lpSum([coins])\n",
        "\n",
        "# Constraints\n",
        "cc += lpSum([coins[i]*i[1] for i in coins]) == target\n",
        "\n",
        "# Solve\n",
        "cc.solve()\n",
        "\n",
        "# Output\n",
        "print(\"Coin Change Minimization Status: {}\".format(LpStatus[cc.status]))\n",
        "print(\"Minimum Coins to Make Change for {}: {} coins\".format(target, int(pulp.value(cc.objective))))\n",
        "x = PrettyTable()\n",
        "print(\"\\nOptimal Coin Distribution\")\n",
        "x.field_names = [\"Coin\", \"Number\"]\n",
        "for i in coins:\n",
        "  x.add_row([i[0], int(coins[i].varValue)])\n",
        "print(x)\n",
        "\n"
      ],
      "execution_count": 0,
      "outputs": [
        {
          "output_type": "stream",
          "text": [
            "Coin Change Minimization Status: Optimal\n",
            "Minimum Coins to Make Change for 202: 10 coins\n",
            "\n",
            "Optimal Coin Distribution\n",
            "+------+--------+\n",
            "| Coin | Number |\n",
            "+------+--------+\n",
            "|  1   |   2    |\n",
            "|  5   |   0    |\n",
            "|  10  |   0    |\n",
            "|  25  |   8    |\n",
            "+------+--------+\n"
          ],
          "name": "stdout"
        }
      ]
    },
    {
      "cell_type": "code",
      "metadata": {
        "id": "RXEzvRckJJDm",
        "colab_type": "code",
        "outputId": "7f793180-eb61-4f8e-c779-c9f401ea85a9",
        "colab": {
          "base_uri": "https://localhost:8080/",
          "height": 272
        }
      },
      "source": [
        "# Instantiate the problem\n",
        "cc = LpProblem(\"Mimize Coin Change\", LpMinimize)\n",
        "\n",
        "# Construct decision variables\n",
        "c = [1,3, 7, 12, 27]\n",
        "target = 293\n",
        "coins = LpVariable.dicts(\"Coin\",\n",
        "                        ((i, int(i))  for i in c),\n",
        "                        lowBound=0,\n",
        "                        cat='Integer')\n",
        "\n",
        "# Objective function\n",
        "cc += lpSum([coins])\n",
        "\n",
        "# Constraints\n",
        "cc += lpSum([coins[i]*i[1] for i in coins]) == target\n",
        "\n",
        "# Solve\n",
        "print(cc.solve())\n",
        "\n",
        "# Output\n",
        "print(\"Coin Change Minimization Status: {}\".format(LpStatus[cc.status]))\n",
        "print(\"Minimum Coins to Make Change for {}: {} coins\".format(target, int(pulp.value(cc.objective))))\n",
        "x = PrettyTable()\n",
        "print(\"\\nOptimal Coin Distribution\")\n",
        "x.field_names = [\"Coin\", \"Number\"]\n",
        "for i in coins:\n",
        "  x.add_row([i[0], int(coins[i].varValue)])\n",
        "print(x)"
      ],
      "execution_count": 0,
      "outputs": [
        {
          "output_type": "stream",
          "text": [
            "1\n",
            "Coin Change Minimization Status: Optimal\n",
            "Minimum Coins to Make Change for 293: 14 coins\n",
            "\n",
            "Optimal Coin Distribution\n",
            "+------+--------+\n",
            "| Coin | Number |\n",
            "+------+--------+\n",
            "|  1   |   1    |\n",
            "|  3   |   1    |\n",
            "|  7   |   1    |\n",
            "|  12  |   1    |\n",
            "|  27  |   10   |\n",
            "+------+--------+\n"
          ],
          "name": "stdout"
        }
      ]
    }
  ]
}