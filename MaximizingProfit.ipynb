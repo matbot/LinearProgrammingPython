{
  "nbformat": 4,
  "nbformat_minor": 0,
  "metadata": {
    "colab": {
      "name": "MaximizingProfit.ipynb",
      "version": "0.3.2",
      "provenance": [],
      "include_colab_link": true
    },
    "kernelspec": {
      "name": "python3",
      "display_name": "Python 3"
    }
  },
  "cells": [
    {
      "cell_type": "markdown",
      "metadata": {
        "id": "view-in-github",
        "colab_type": "text"
      },
      "source": [
        "<a href=\"https://colab.research.google.com/github/matbot/LinearProgrammingPython/blob/master/MaximizingProfit.ipynb\" target=\"_parent\"><img src=\"https://colab.research.google.com/assets/colab-badge.svg\" alt=\"Open In Colab\"/></a>"
      ]
    },
    {
      "cell_type": "code",
      "metadata": {
        "id": "nHi8IkgQM_fr",
        "colab_type": "code",
        "colab": {}
      },
      "source": [
        "#@hw6p1\n",
        "!pip install pulp\n",
        "from pulp import *\n",
        "\n",
        "from prettytable import PrettyTable"
      ],
      "execution_count": 0,
      "outputs": []
    },
    {
      "cell_type": "code",
      "metadata": {
        "id": "ukvi5euHXoyn",
        "colab_type": "code",
        "outputId": "24375850-74ce-411e-c70e-34694f71d796",
        "colab": {
          "base_uri": "https://localhost:8080/",
          "height": 437
        }
      },
      "source": [
        "# Instantiate the problem\n",
        "model = LpProblem(\"Maximizing Profit of Tie Production\", LpMaximize)\n",
        "\n",
        "# Construct the decision variables\n",
        "Silk = LpVariable('Silk', lowBound=0, cat='Integer')\n",
        "Poly = LpVariable('Polyester', lowBound=0, cat='Integer')\n",
        "Blend1 = LpVariable('Blend1', lowBound=0, cat='Integer')\n",
        "Blend2 = LpVariable('Blend2', lowBound=0, cat='Integer')\n",
        "\n",
        "# Objective Function: Sum of profit from each type.\n",
        "model += ((Silk*6.7 - Silk*.75 - Silk*(0.125*20)) + \n",
        "         (Poly*3.55 - Poly*.75 - Poly*(0.08*6)) +\n",
        "         (Blend1*4.31 - Blend1*.75 - Blend1*(0.05*6 + 0.05*9)) +\n",
        "         (Blend2*4.81 - Blend2*.75 - Blend2*(0.03*6 + 0.07*9)))\n",
        "\n",
        "# Constraints\n",
        "# Material availability constraints\n",
        "model += Silk*.125 <= 1000, \"Available silk\"\n",
        "model += Poly*.08 + Blend1*.05 + Blend2*.03 <= 2000, \"Available polyester\"\n",
        "model += Blend1*.05 + Blend2*.07 <= 1250, \"Available cotton\"\n",
        "\n",
        "# Production constraints\n",
        "model += Silk >= 6000, \"Min Silk\"\n",
        "model += Silk <= 7000, \"Max Silk\"\n",
        "model += Poly >= 10000, \"Min Poly\"\n",
        "model += Poly <= 14000, \"Max Poly\"\n",
        "model += Blend1 >= 13000, \"Min Blend1\"\n",
        "model += Blend1 <= 16000, \"Max Blend1\"\n",
        "model += Blend2 >= 6000, \"Min Blend2\"\n",
        "model += Blend2 <=  8500, \"Max Blend2\"\n",
        "\n",
        "# Solve it\n",
        "model.solve()\n",
        "\n",
        "# Print LP Status\n",
        "print(\"Tie Production Profit Maximization Status: {}\".format(LpStatus[model.status]))\n",
        "\n",
        "# Print tie types and optimal number.\n",
        "x = PrettyTable()\n",
        "x.field_names = [\"Tie\", \"Number to Produce\"]\n",
        "x.add_row([\"Silk\", int(Silk.varValue)])\n",
        "x.add_row([\"Polyester\", int(Poly.varValue)])\n",
        "x.add_row([\"Blend1\", int(Blend1.varValue)])\n",
        "x.add_row([\"Blend2\", int(Blend2.varValue)])\n",
        "print(x)\n",
        "\n",
        "# Print objective max profit.\n",
        "print(\"Maximum Profit = ${}\".format(round(pulp.value(model.objective),2)))\n",
        "\n",
        "# Print constraint dual costs and slack\n",
        "y = PrettyTable()\n",
        "y.field_names = [\"Name\", \"Constraint\", \"Slack\"]\n",
        "for name, c in model.constraints.items():\n",
        "  y.add_row([name, c, c.slack])\n",
        "print(y)"
      ],
      "execution_count": 0,
      "outputs": [
        {
          "output_type": "stream",
          "text": [
            "Tie Production Profit Maximization Status: Optimal\n",
            "+-----------+-------------------+\n",
            "|    Tie    | Number to Produce |\n",
            "+-----------+-------------------+\n",
            "|    Silk   |        7000       |\n",
            "| Polyester |       13625       |\n",
            "|   Blend1  |       13100       |\n",
            "|   Blend2  |        8500       |\n",
            "+-----------+-------------------+\n",
            "Maximum Profit = $120196.0\n",
            "+---------------------+------------------------------------------------------+---------+\n",
            "|         Name        |                      Constraint                      |  Slack  |\n",
            "+---------------------+------------------------------------------------------+---------+\n",
            "|    Available_silk   |                 0.125*Silk <= 1000.0                 |  125.0  |\n",
            "| Available_polyester | 0.05*Blend1 + 0.03*Blend2 + 0.08*Polyester <= 2000.0 |   -0.0  |\n",
            "|   Available_cotton  |         0.05*Blend1 + 0.07*Blend2 <= 1250.0          |   -0.0  |\n",
            "|       Min_Silk      |                     Silk >= 6000                     | -1000.0 |\n",
            "|       Max_Silk      |                     Silk <= 7000                     |   -0.0  |\n",
            "|       Min_Poly      |                  Polyester >= 10000                  | -3625.0 |\n",
            "|       Max_Poly      |                  Polyester <= 14000                  |  375.0  |\n",
            "|      Min_Blend1     |                   Blend1 >= 13000                    |  -100.0 |\n",
            "|      Max_Blend1     |                   Blend1 <= 16000                    |  2900.0 |\n",
            "|      Min_Blend2     |                    Blend2 >= 6000                    | -2500.0 |\n",
            "|      Max_Blend2     |                    Blend2 <= 8500                    |   -0.0  |\n",
            "+---------------------+------------------------------------------------------+---------+\n"
          ],
          "name": "stdout"
        }
      ]
    }
  ]
}